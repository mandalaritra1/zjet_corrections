{
 "cells": [
  {
   "cell_type": "code",
   "execution_count": 2,
   "id": "55de6544",
   "metadata": {},
   "outputs": [],
   "source": [
    "import coffea\n",
    "import numpy as np\n",
    "import awkward as ak\n",
    "import uproot\n",
    "import pickle\n",
    "import os, sys, subprocess, json, gzip, correctionlib\n",
    "import time\n",
    "#sys.path.append(os.path.join(os.getcwd(), \"src/zjet_corrections\"))\n",
    "import sys, os\n",
    "sys.path.insert(0, os.path.abspath(\"/work\")) \n",
    "import importlib\n",
    "import zjet_corrections.zjet_processor\n",
    "\n",
    "importlib.reload(zjet_corrections.zjet_processor)\n",
    "\n",
    "from zjet_corrections.zjet_processor import QJetMassProcessor\n",
    "from coffea.nanoevents import NanoAODSchema\n",
    "from coffea import processor\n"
   ]
  },
  {
   "cell_type": "code",
   "execution_count": 3,
   "id": "f0d67b58",
   "metadata": {},
   "outputs": [],
   "source": [
    "%load_ext autoreload\n",
    "%autoreload 2"
   ]
  },
  {
   "cell_type": "code",
   "execution_count": null,
   "id": "714b5bdf",
   "metadata": {},
   "outputs": [],
   "source": [
    "def _ensure_import(modname: str, pip_spec: str = None, tag: str = None, extra_pip_args=()):\n",
    "    \"\"\"\n",
    "    Try to import `modname`. If it fails, pip-install `pip_spec` into /tmp cache,\n",
    "    add to sys.path, and import again. `tag` is used to make the cache path deterministic.\n",
    "    \"\"\"\n",
    "    try:\n",
    "        return __import__(modname)\n",
    "    except ImportError:\n",
    "        pass\n",
    "\n",
    "    base = os.environ.get(\"ZJET_CACHE_BASE\", \"/tmp/zjet_pkgs\")\n",
    "    tag = tag or modname\n",
    "    target = os.path.join(base, tag.replace(\"/\", \"_\"))\n",
    "    os.makedirs(target, exist_ok=True)\n",
    "\n",
    "    # crude file lock so many workers don't fight (best-effort)\n",
    "    lock = os.path.join(target, \".install.lock\")\n",
    "    try:\n",
    "        fd = os.open(lock, os.O_CREAT | os.O_EXCL | os.O_WRONLY)\n",
    "        os.close(fd)\n",
    "        # We won the \"lock\": perform install if not already present\n",
    "        marker = os.path.join(target, \".done\")\n",
    "        if not os.path.exists(marker):\n",
    "            cmd = [sys.executable, \"-m\", \"pip\", \"install\", \"--no-deps\", \"-q\", \"--target\", target, pip_spec]\n",
    "            if extra_pip_args:\n",
    "                cmd[6:6] = list(extra_pip_args)\n",
    "            code = subprocess.call(cmd)\n",
    "            if code != 0:\n",
    "                raise RuntimeError(f\"pip install failed for {pip_spec} (exit {code})\")\n",
    "            # mark success\n",
    "            with open(marker, \"w\") as f:\n",
    "                f.write(\"ok\")\n",
    "    except FileExistsError:\n",
    "        # someone else is installing; wait briefly\n",
    "        import time\n",
    "        for _ in range(120):\n",
    "            if os.path.exists(os.path.join(target, \".done\")):\n",
    "                break\n",
    "            time.sleep(0.5)\n",
    "    finally:\n",
    "        try:\n",
    "            os.remove(lock)\n",
    "        except OSError:\n",
    "            pass\n",
    "\n",
    "    if target not in sys.path:\n",
    "        sys.path.insert(0, target)\n",
    "    return __import__(modname)"
   ]
  },
  {
   "cell_type": "code",
   "execution_count": 4,
   "id": "7f2eca92",
   "metadata": {},
   "outputs": [],
   "source": [
    "NanoAODSchema.warn_missing_crossrefs = False\n",
    "\n",
    "\n",
    "\n",
    "def make_runner(\n",
    "    use_dask: bool = False,\n",
    "    client=None,\n",
    "    workers: int = 1,\n",
    "    chunksize: int = 400_000,\n",
    "    maxchunks: int | None = 1,\n",
    "    skipbadfiles: bool = True,\n",
    "):\n",
    "    \"\"\"\n",
    "    If use_dask=True, 'client' must be an existing distributed.Client.\n",
    "    Otherwise falls back to FuturesExecutor(workers=...).\n",
    "    \"\"\"\n",
    "    if use_dask:\n",
    "        if client is None:\n",
    "            raise ValueError(\"use_dask=True but no Dask 'client' was provided.\")\n",
    "        executor = processor.DaskExecutor(\n",
    "            client=client,\n",
    "            status=True,      # progress bar\n",
    "            retries=1,        # re-try failed chunks\n",
    "        )\n",
    "    else:\n",
    "        executor = processor.FuturesExecutor(\n",
    "            workers=workers,\n",
    "            status=True,      # progress bar\n",
    "            compression=None, # keep your original choice\n",
    "        )\n",
    "\n",
    "    return processor.Runner(\n",
    "        executor=executor,\n",
    "        schema=NanoAODSchema,\n",
    "        chunksize=chunksize,\n",
    "        maxchunks=maxchunks,\n",
    "        skipbadfiles=skipbadfiles,\n",
    "    )\n",
    "\n",
    "# -------------------------\n",
    "# Usage (Futures locally):\n",
    "# -------------------------\n",
    "# run = make_runner(use_dask=False, workers=1, chunksize=100000, maxchunks=None)\n",
    "# out = run(fileset, \"Events\", processor_instance=ZmmMinimal())"
   ]
  },
  {
   "cell_type": "code",
   "execution_count": 5,
   "id": "592822e1",
   "metadata": {},
   "outputs": [
    {
     "data": {
      "text/plain": [
       "'/work/ws/zjet_corrections'"
      ]
     },
     "execution_count": 5,
     "metadata": {},
     "output_type": "execute_result"
    }
   ],
   "source": [
    "os.getcwd()"
   ]
  },
  {
   "cell_type": "code",
   "execution_count": 13,
   "id": "53c8385c",
   "metadata": {},
   "outputs": [
    {
     "data": {
      "text/plain": [
       "'/work/ws/zjet_corrections'"
      ]
     },
     "execution_count": 13,
     "metadata": {},
     "output_type": "execute_result"
    }
   ],
   "source": [
    "os.getcwd()"
   ]
  },
  {
   "cell_type": "code",
   "execution_count": 19,
   "id": "3fa30000",
   "metadata": {},
   "outputs": [],
   "source": [
    "#prependstr = 'root://xcache/'\n",
    "prependstr = \"root://cmsxrootd.fnal.gov/\"\n",
    "with open('/work/ws/zjet_corrections/tests/samples.txt') as f:\n",
    "    lines = f.readlines()\n",
    "files = []\n",
    "for line in lines:\n",
    "    files.append(prependstr + line[:-1])\n",
    "fileset = {\n",
    "    'DYJetsToLL_M-50': files\n",
    "\n",
    "}"
   ]
  },
  {
   "cell_type": "code",
   "execution_count": 20,
   "id": "0cc11793",
   "metadata": {},
   "outputs": [],
   "source": [
    "# import dask\n",
    "# from dask.distributed import Client, LocalCluster\n",
    "# client = Client(LocalCluster(n_workers=3, threads_per_worker=1))\n",
    "client = None"
   ]
  },
  {
   "cell_type": "code",
   "execution_count": null,
   "id": "ededadb2",
   "metadata": {},
   "outputs": [
    {
     "data": {
      "application/vnd.jupyter.widget-view+json": {
       "model_id": "8fcae6c967504928bcd3f4669fb53c64",
       "version_major": 2,
       "version_minor": 0
      },
      "text/plain": [
       "Output()"
      ]
     },
     "metadata": {},
     "output_type": "display_data"
    },
    {
     "data": {
      "text/html": [
       "<pre style=\"white-space:pre;overflow-x:auto;line-height:normal;font-family:Menlo,'DejaVu Sans Mono',consolas,'Courier New',monospace\"></pre>\n"
      ],
      "text/plain": []
     },
     "metadata": {},
     "output_type": "display_data"
    }
   ],
   "source": [
    "#fileset_test = {\"DYJets\":[\"/work/ws/zjet_corrections/tests/DYjets.root\"]}\n",
    "fileset_test = {list(fileset.keys())[0]:[fileset[list(fileset.keys())[0]][0]]}\n",
    "run = make_runner(use_dask=False, client=client, chunksize=400000, maxchunks=1)\n",
    "t0 = time.time()\n",
    "out = run(fileset_test, \"Events\", processor_instance=QJetMassProcessor(debug=True))\n",
    "t1 = time.time()\n",
    "print(f\"Done Running, time taken {(t1-t0):.2f} seconds\")"
   ]
  },
  {
   "cell_type": "code",
   "execution_count": 8,
   "id": "542b427c",
   "metadata": {},
   "outputs": [
    {
     "data": {
      "text/plain": [
       "(0.0, 200.0)"
      ]
     },
     "execution_count": 8,
     "metadata": {},
     "output_type": "execute_result"
    },
    {
     "data": {
      "image/png": "[encoded data removed]",
      "text/plain": [
       "<Figure size 640x480 with 1 Axes>"
      ]
     },
     "metadata": {},
     "output_type": "display_data"
    }
   ],
   "source": [
    "import hist\n",
    "import matplotlib.pyplot as plt\n",
    "h1 = out['ptjet_mjet_u_reco'].project('mreco')[hist.rebin(2)]\n",
    "h2 = out['ptjet_mjet_u_gen'].project('mgen')[hist.rebin(1)]\n",
    "h1.plot(label='Reco')\n",
    "h2.plot(label='Gen')\n",
    "plt.legend()\n",
    "total_reco = h1.sum().value\n",
    "total_gen = h2.sum().value\n",
    "ax = plt.gca()\n",
    "handles, labels = ax.get_legend_handles_labels()\n",
    "new_labels = []\n",
    "for lab in labels:\n",
    "    if lab == 'Reco':\n",
    "        new_labels.append(f\"Reco (Total: {total_reco:.0f})\")\n",
    "    elif lab == 'Gen':\n",
    "        new_labels.append(f\"Gen (Total: {total_gen:.0f})\")\n",
    "    else:\n",
    "        new_labels.append(lab)\n",
    "ax.legend(handles, new_labels, loc='best', fontsize=12, framealpha=0.5)\n",
    "#plt.yscale('log')\n",
    "plt.xlim(0,200)"
   ]
  },
  {
   "cell_type": "code",
   "execution_count": null,
   "id": "aaeceb14",
   "metadata": {},
   "outputs": [],
   "source": []
  },
  {
   "cell_type": "code",
   "execution_count": 9,
   "id": "120496a4",
   "metadata": {},
   "outputs": [
    {
     "data": {
      "image/png": "[encoded data removed]",
      "text/plain": [
       "<Figure size 640x480 with 2 Axes>"
      ]
     },
     "metadata": {},
     "output_type": "display_data"
    }
   ],
   "source": [
    "h_resp = out['response_matrix_u'].project('ptgen', 'mgen', 'ptreco', 'mreco')\n",
    "resp_vals = h_resp.values(flow = True)\n",
    "resp_vals_2d = resp_vals.reshape(resp_vals.shape[0]*resp_vals.shape[1], resp_vals.shape[2]*resp_vals.shape[3])\n",
    "plt.imshow(resp_vals_2d, origin='lower', aspect='auto', cmap='viridis')\n",
    "plt.colorbar(label='Counts')\n",
    "plt.xlabel('Reco bins (pt x m)')\n",
    "plt.ylabel('Gen bins (pt x m)')\n",
    "plt.title('Response Matrix Heatmap')\n",
    "plt.show()"
   ]
  },
  {
   "cell_type": "code",
   "execution_count": 10,
   "id": "0bc5c1d6",
   "metadata": {},
   "outputs": [
    {
     "data": {
      "text/plain": [
       "array([ 8., 43., 13.,  6.,  0.])"
      ]
     },
     "execution_count": 10,
     "metadata": {},
     "output_type": "execute_result"
    }
   ],
   "source": [
    "resp_vals.sum(axis= (0,1,3))"
   ]
  },
  {
   "cell_type": "code",
   "execution_count": 11,
   "id": "6bf420b7",
   "metadata": {},
   "outputs": [
    {
     "name": "stdout",
     "output_type": "stream",
     "text": [
      "Output written to test_output.pkl with size 219.2 KB\n"
     ]
    }
   ],
   "source": [
    "import pickle\n",
    "with open(\"test_output.pkl\", \"wb\") as f:\n",
    "    pickle.dump(out, f)\n",
    "print(f\"Output written to test_output.pkl with size {os.path.getsize('test_output.pkl')/1e3:.1f} KB\")"
   ]
  },
  {
   "cell_type": "code",
   "execution_count": null,
   "id": "0b0e1582",
   "metadata": {},
   "outputs": [],
   "source": []
  }
 ],
 "metadata": {
  "kernelspec": {
   "display_name": "Python 3",
   "language": "python",
   "name": "python3"
  },
  "language_info": {
   "codemirror_mode": {
    "name": "ipython",
    "version": 3
   },
   "file_extension": ".py",
   "mimetype": "text/x-python",
   "name": "python",
   "nbconvert_exporter": "python",
   "pygments_lexer": "ipython3",
   "version": "3.10.18"
  }
 },
 "nbformat": 4,
 "nbformat_minor": 5
}
