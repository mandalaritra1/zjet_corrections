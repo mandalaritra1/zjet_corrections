{
 "cells": [
  {
   "cell_type": "code",
   "execution_count": 1,
   "id": "858a07f1",
   "metadata": {},
   "outputs": [],
   "source": [
    "casa = False"
   ]
  },
  {
   "cell_type": "code",
   "execution_count": 2,
   "id": "135b4bc7",
   "metadata": {},
   "outputs": [
    {
     "name": "stdout",
     "output_type": "stream",
     "text": [
      "True\n"
     ]
    }
   ],
   "source": [
    "from importlib.resources import files\n",
    "\n",
    "data_root = files(\"zjet_corrections\") / \"corrections\" / \"pu\"\n",
    "print(any(p.name == \"puWeights.json.gz\" for p in data_root.rglob(\"puWeights.json.gz\")))\n"
   ]
  },
  {
   "cell_type": "code",
   "execution_count": 3,
   "id": "97f6e87b",
   "metadata": {},
   "outputs": [
    {
     "data": {
      "text/plain": [
       "{'path': '/tmp/tmps7nmh7_h/Summer19UL18_V5_MC_L1FastJet_AK8PFPuppi.jec.txt',\n",
       " 'resource_exists': True,\n",
       " 'evaluator_keys': ['Summer19UL18_V5_MC_L1FastJet_AK8PFPuppi']}"
      ]
     },
     "execution_count": 3,
     "metadata": {},
     "output_type": "execute_result"
    }
   ],
   "source": [
    "from zjet_corrections.corrections import debug_jec_weightset\n",
    "debug_jec_weightset('2018', mode='AK8', is_data=False)"
   ]
  },
  {
   "cell_type": "code",
   "execution_count": 4,
   "id": "cd6de8cd-3598-4345-80c7-ce8e7eb279be",
   "metadata": {},
   "outputs": [],
   "source": [
    "# def _ensure_import(modname: str, pip_spec: str = None, tag: str = None, extra_pip_args=()):\n",
    "#     \"\"\"\n",
    "#     Try to import `modname`. If it fails, pip-install `pip_spec` into /tmp cache,\n",
    "#     add to sys.path, and import again. `tag` is used to make the cache path deterministic.\n",
    "#     \"\"\"\n",
    "#     try:\n",
    "#         return __import__(modname)\n",
    "#     except ImportError:\n",
    "#         pass\n",
    "\n",
    "#     base = os.environ.get(\"ZJET_CACHE_BASE\", \"/tmp/zjet_pkgs\")\n",
    "#     tag = tag or modname\n",
    "#     target = os.path.join(base, tag.replace(\"/\", \"_\"))\n",
    "#     os.makedirs(target, exist_ok=True)\n",
    "\n",
    "#     # crude file lock so many workers don't fight (best-effort)\n",
    "#     lock = os.path.join(target, \".install.lock\")\n",
    "#     try:\n",
    "#         fd = os.open(lock, os.O_CREAT | os.O_EXCL | os.O_WRONLY)\n",
    "#         os.close(fd)\n",
    "#         # We won the \"lock\": perform install if not already present\n",
    "#         marker = os.path.join(target, \".done\")\n",
    "#         if not os.path.exists(marker):\n",
    "#             cmd = [sys.executable, \"-m\", \"pip\", \"install\", \"--no-deps\", \"-q\", \"--target\", target, pip_spec]\n",
    "#             if extra_pip_args:\n",
    "#                 cmd[6:6] = list(extra_pip_args)\n",
    "#             code = subprocess.call(cmd)\n",
    "#             if code != 0:\n",
    "#                 raise RuntimeError(f\"pip install failed for {pip_spec} (exit {code})\")\n",
    "#             # mark success\n",
    "#             with open(marker, \"w\") as f:\n",
    "#                 f.write(\"ok\")\n",
    "#     except FileExistsError:\n",
    "#         # someone else is installing; wait briefly\n",
    "#         import time\n",
    "#         for _ in range(120):\n",
    "#             if os.path.exists(os.path.join(target, \".done\")):\n",
    "#                 break\n",
    "#             time.sleep(0.5)\n",
    "#     finally:\n",
    "#         try:\n",
    "#             os.remove(lock)\n",
    "#         except OSError:\n",
    "#             pass\n",
    "\n",
    "#     if target not in sys.path:\n",
    "#         sys.path.insert(0, target)\n",
    "#     return __import__(modname)"
   ]
  },
  {
   "cell_type": "code",
   "execution_count": 5,
   "id": "55de6544",
   "metadata": {},
   "outputs": [],
   "source": [
    "import coffea\n",
    "import numpy as np\n",
    "import awkward as ak\n",
    "from dask.distributed import Client\n",
    "import uproot\n",
    "import pickle\n",
    "import os, sys, subprocess, json, gzip, correctionlib\n",
    "import time\n",
    "#sys.path.append(os.path.join(os.getcwd(), \"src/zjet_corrections\"))\n",
    "import sys, os\n",
    "sys.path.insert(0, os.path.abspath(\"/work\")) \n",
    "import importlib\n",
    "#zjet_corrections = _ensure_import(\"zjet_corrections\")\n",
    "import zjet_corrections.zjet_processor\n",
    "\n",
    "importlib.reload(zjet_corrections.zjet_processor)\n",
    "\n",
    "from zjet_corrections.zjet_processor import QJetMassProcessor\n",
    "from coffea.nanoevents import NanoAODSchema\n",
    "from coffea import processor\n"
   ]
  },
  {
   "cell_type": "code",
   "execution_count": 6,
   "id": "f0d67b58",
   "metadata": {},
   "outputs": [],
   "source": [
    "%load_ext autoreload\n",
    "%autoreload 2"
   ]
  },
  {
   "cell_type": "code",
   "execution_count": null,
   "id": "714b5bdf",
   "metadata": {},
   "outputs": [],
   "source": []
  },
  {
   "cell_type": "code",
   "execution_count": null,
   "id": "e4a6b9e5-ba97-47a4-99ee-e87cadc8d5b4",
   "metadata": {},
   "outputs": [],
   "source": []
  },
  {
   "cell_type": "code",
   "execution_count": 7,
   "id": "7f2eca92",
   "metadata": {},
   "outputs": [],
   "source": [
    "NanoAODSchema.warn_missing_crossrefs = False\n",
    "\n",
    "\n",
    "\n",
    "def make_runner(\n",
    "    use_dask: bool = False,\n",
    "    client=None,\n",
    "    workers: int = 1,\n",
    "    chunksize: int = 400_000,\n",
    "    maxchunks: int | None = 1,\n",
    "    skipbadfiles: bool = True,\n",
    "):\n",
    "    \"\"\"\n",
    "    If use_dask=True, 'client' must be an existing distributed.Client.\n",
    "    Otherwise falls back to FuturesExecutor(workers=...).\n",
    "    \"\"\"\n",
    "    if use_dask:\n",
    "        if client is None:\n",
    "            raise ValueError(\"use_dask=True but no Dask 'client' was provided.\")\n",
    "        executor = processor.DaskExecutor(\n",
    "            client=client,\n",
    "            status=True,      # progress bar\n",
    "            retries=1,        # re-try failed chunks\n",
    "        )\n",
    "    else:\n",
    "        executor = processor.FuturesExecutor(\n",
    "            workers=workers,\n",
    "            status=True,      # progress bar\n",
    "            compression=None, # keep your original choice\n",
    "        )\n",
    "\n",
    "    return processor.Runner(\n",
    "        executor=executor,\n",
    "        schema=NanoAODSchema,\n",
    "        chunksize=chunksize,\n",
    "        maxchunks=maxchunks,\n",
    "        skipbadfiles=skipbadfiles,\n",
    "    )\n",
    "\n",
    "# -------------------------\n",
    "# Usage (Futures locally):\n",
    "# -------------------------\n",
    "# run = make_runner(use_dask=False, workers=1, chunksize=100000, maxchunks=None)\n",
    "# out = run(fileset, \"Events\", processor_instance=ZmmMinimal())"
   ]
  },
  {
   "cell_type": "code",
   "execution_count": 8,
   "id": "592822e1",
   "metadata": {},
   "outputs": [
    {
     "data": {
      "text/plain": [
       "'/work/ws/zjet_corrections/tests'"
      ]
     },
     "execution_count": 8,
     "metadata": {},
     "output_type": "execute_result"
    }
   ],
   "source": [
    "os.getcwd()"
   ]
  },
  {
   "cell_type": "code",
   "execution_count": 9,
   "id": "53c8385c",
   "metadata": {},
   "outputs": [
    {
     "data": {
      "text/plain": [
       "'/work/ws/zjet_corrections/tests'"
      ]
     },
     "execution_count": 9,
     "metadata": {},
     "output_type": "execute_result"
    }
   ],
   "source": [
    "os.getcwd()"
   ]
  },
  {
   "cell_type": "code",
   "execution_count": 10,
   "id": "3fa30000",
   "metadata": {},
   "outputs": [],
   "source": [
    "prependstr = 'root://xcache/'\n",
    "#prependstr = \"root://cmsxrootd.fnal.gov/\"\n",
    "if casa:\n",
    "    sample_path = 'samples.txt'\n",
    "else:\n",
    "    sample_path = '/work/ws/zjet_corrections/tests/samples.txt'\n",
    "with open(sample_path) as f:\n",
    "    lines = f.readlines()\n",
    "files = []\n",
    "for line in lines:\n",
    "    files.append(prependstr + line[:-1])\n",
    "fileset = {\n",
    "    'DYJetsToLL_M-50': files\n",
    "\n",
    "}"
   ]
  },
  {
   "cell_type": "code",
   "execution_count": 11,
   "id": "3597b9a0-acb5-4de4-842d-830846bde24e",
   "metadata": {},
   "outputs": [],
   "source": [
    "\n",
    "# if casa:\n",
    "#     client = Client(\"localhost:8786\")\n",
    "#     client"
   ]
  },
  {
   "cell_type": "code",
   "execution_count": 12,
   "id": "0cc11793",
   "metadata": {},
   "outputs": [],
   "source": [
    "if casa:\n",
    "    import shutil, os, pathlib\n",
    "\n",
    "    pkg_dir = pathlib.Path(\"/home/cms-jovyan/new_git/src/zjet_corrections\")   # or the actual path to your package dir\n",
    "    zip_path = pathlib.Path(\"/tmp/zjet_corrections.zip\")\n",
    "    if zip_path.exists():\n",
    "        zip_path.unlink()\n",
    "    shutil.make_archive(zip_path.with_suffix(\"\"), \"zip\", pkg_dir.parent, pkg_dir.name)\n",
    "\n",
    "    client.upload_file(str(zip_path))  # uploads the zip and adds it to workers' sys.path\n",
    "else:\n",
    "    # client is already defined above, so nothing needs to be done here\n",
    "    client = None"
   ]
  },
  {
   "cell_type": "code",
   "execution_count": 13,
   "id": "e111b3e9",
   "metadata": {},
   "outputs": [],
   "source": [
    "#client.run(debug_jec_weightset, '2018', mode='AK8', is_data=False)"
   ]
  },
  {
   "cell_type": "code",
   "execution_count": 28,
   "id": "ededadb2",
   "metadata": {},
   "outputs": [
    {
     "data": {
      "application/vnd.jupyter.widget-view+json": {
       "model_id": "43f2d048f64f4f699e50a13b1169e72f",
       "version_major": 2,
       "version_minor": 0
      },
      "text/plain": [
       "Output()"
      ]
     },
     "metadata": {},
     "output_type": "display_data"
    },
    {
     "name": "stdout",
     "output_type": "stream",
     "text": [
      "[INFO] Starting processing for dataset: DYJets and file: /work/ws/zjet_corrections/tests/DYjets.root\n",
      "[INFO] Applying MET filters\n",
      "[INFO] Entering GEN selection\n"
     ]
    },
    {
     "name": "stderr",
     "output_type": "stream",
     "text": [
      "/usr/local/lib/python3.10/site-packages/awkward/_connect/_numpy.py:197: RuntimeWarning: invalid value encountered in sqrt\n",
      "  result = getattr(ufunc, method)(\n",
      "/usr/local/lib/python3.10/site-packages/awkward/_connect/_numpy.py:197: RuntimeWarning: invalid value encountered in divide\n",
      "  result = getattr(ufunc, method)(\n",
      "/usr/local/lib/python3.10/site-packages/awkward/_connect/_numpy.py:197: RuntimeWarning: divide by zero encountered in divide\n",
      "  result = getattr(ufunc, method)(\n"
     ]
    },
    {
     "name": "stdout",
     "output_type": "stream",
     "text": [
      "[INFO] Entering RECO selection\n",
      "Using TAG AK8PFPuppi\n"
     ]
    },
    {
     "data": {
      "text/html": [
       "<pre style=\"white-space:pre;overflow-x:auto;line-height:normal;font-family:Menlo,'DejaVu Sans Mono',consolas,'Courier New',monospace\"></pre>\n"
      ],
      "text/plain": []
     },
     "metadata": {},
     "output_type": "display_data"
    },
    {
     "name": "stdout",
     "output_type": "stream",
     "text": [
      "[INFO] Scaled ptjet_mjet_u_reco for dataset DYJets by 363053.122800 = 6077.22 * 59740.0 / 1000.0\n",
      "[INFO] Scaled ptjet_mjet_g_reco for dataset DYJets by 363053.122800 = 6077.22 * 59740.0 / 1000.0\n",
      "[INFO] Scaled ptjet_mjet_u_gen for dataset DYJets by 363053.122800 = 6077.22 * 59740.0 / 1000.0\n",
      "[INFO] Scaled response_matrix_u for dataset DYJets by 363053.122800 = 6077.22 * 59740.0 / 1000.0\n",
      "[INFO] Scaled response_matrix_g for dataset DYJets by 363053.122800 = 6077.22 * 59740.0 / 1000.0\n",
      "Done Running, time taken 10.06 seconds\n"
     ]
    }
   ],
   "source": [
    "#fileset_test = {\"DYJets\":[\"/work/ws/zjet_corrections/tests/DYjets.root\"]}\n",
    "if casa:\n",
    "    fileset_test = {list(fileset.keys())[0]:[fileset[list(fileset.keys())[0]][3]]}\n",
    "else:\n",
    "    fileset_test = {\"DYJets\":[\"/work/ws/zjet_corrections/tests/DYjets.root\"]}\n",
    "\n",
    "run = make_runner(use_dask=False, client=None, chunksize=1000, maxchunks=1)\n",
    "t0 = time.time()\n",
    "out = run(fileset_test, \"Events\", processor_instance=QJetMassProcessor(debug=False))\n",
    "t1 = time.time()\n",
    "print(f\"Done Running, time taken {(t1-t0):.2f} seconds\")"
   ]
  },
  {
   "cell_type": "code",
   "execution_count": 20,
   "id": "3060da09-4e3b-44fc-8e22-6bd53cc3db64",
   "metadata": {},
   "outputs": [
    {
     "data": {
      "text/plain": [
       "(0.0, 200.0)"
      ]
     },
     "execution_count": 20,
     "metadata": {},
     "output_type": "execute_result"
    },
    {
     "data": {
      "image/png": "[encoded data removed]",
      "text/plain": [
       "<Figure size 640x480 with 1 Axes>"
      ]
     },
     "metadata": {},
     "output_type": "display_data"
    }
   ],
   "source": [
    "import hist\n",
    "import matplotlib.pyplot as plt\n",
    "h1 = out['ptjet_mjet_u_gen'].project('ptgen','mgen')[2,hist.rebin(1)]\n",
    "h2 = out['response_matrix_u'].project('ptgen','mgen')[2,hist.rebin(1)]\n",
    "h1.plot(label='Truth')\n",
    "h2.plot(label='Matrix Proj')\n",
    "plt.legend()\n",
    "total_reco = h1.sum().value\n",
    "total_gen = h2.sum().value\n",
    "ax = plt.gca()\n",
    "handles, labels = ax.get_legend_handles_labels()\n",
    "new_labels = []\n",
    "for lab in labels:\n",
    "    if lab == 'Reco':\n",
    "        new_labels.append(f\"Reco (Total: {total_reco:.0f})\")\n",
    "    elif lab == 'Gen':\n",
    "        new_labels.append(f\"Gen (Total: {total_gen:.0f})\")\n",
    "    else:\n",
    "        new_labels.append(lab)\n",
    "ax.legend(handles, new_labels, loc='best', fontsize=12, framealpha=0.5)\n",
    "#plt.yscale('log')\n",
    "plt.xlim(0,200)"
   ]
  },
  {
   "cell_type": "code",
   "execution_count": 21,
   "id": "542b427c",
   "metadata": {},
   "outputs": [
    {
     "data": {
      "text/plain": [
       "(0.0, 200.0)"
      ]
     },
     "execution_count": 21,
     "metadata": {},
     "output_type": "execute_result"
    },
    {
     "data": {
      "image/png": "[encoded data removed]",
      "text/plain": [
       "<Figure size 640x480 with 1 Axes>"
      ]
     },
     "metadata": {},
     "output_type": "display_data"
    }
   ],
   "source": [
    "import hist\n",
    "import matplotlib.pyplot as plt\n",
    "h1 = out['ptjet_mjet_u_reco'].project('ptreco','mreco')[0,hist.rebin(2)]\n",
    "h2 = out['ptjet_mjet_u_gen'].project('ptgen','mgen')[0,hist.rebin(1)]\n",
    "h1.plot(label='Reco')\n",
    "h2.plot(label='Gen')\n",
    "plt.legend()\n",
    "total_reco = h1.sum().value\n",
    "total_gen = h2.sum().value\n",
    "ax = plt.gca()\n",
    "handles, labels = ax.get_legend_handles_labels()\n",
    "new_labels = []\n",
    "for lab in labels:\n",
    "    if lab == 'Reco':\n",
    "        new_labels.append(f\"Reco (Total: {total_reco:.0f})\")\n",
    "    elif lab == 'Gen':\n",
    "        new_labels.append(f\"Gen (Total: {total_gen:.0f})\")\n",
    "    else:\n",
    "        new_labels.append(lab)\n",
    "ax.legend(handles, new_labels, loc='best', fontsize=12, framealpha=0.5)\n",
    "#plt.yscale('log')\n",
    "plt.xlim(0,200)"
   ]
  },
  {
   "cell_type": "code",
   "execution_count": 41,
   "id": "aaeceb14",
   "metadata": {},
   "outputs": [
    {
     "name": "stderr",
     "output_type": "stream",
     "text": [
      "/usr/local/lib/python3.10/site-packages/mplhep/utils.py:652: RuntimeWarning: All sumw are zero!  Cannot compute meaningful error bars\n",
      "  return np.abs(method_fcn(self.values(), variances) - self.values())\n"
     ]
    },
    {
     "data": {
      "text/plain": [
       "(0.0, 200.0)"
      ]
     },
     "execution_count": 41,
     "metadata": {},
     "output_type": "execute_result"
    },
    {
     "data": {
      "image/png": "[encoded data removed]",
      "text/plain": [
       "<Figure size 640x480 with 1 Axes>"
      ]
     },
     "metadata": {},
     "output_type": "display_data"
    }
   ],
   "source": [
    "import hist\n",
    "import matplotlib.pyplot as plt\n",
    "h1 = out['ptjet_mjet_g_reco'].project('mreco')[hist.rebin(2)]\n",
    "h2 = out['ptjet_mjet_g_gen'].project('mgen')[hist.rebin(1)]\n",
    "h1.plot(label='Reco')\n",
    "h2.plot(label='Gen')\n",
    "plt.legend()\n",
    "total_reco = h1.sum().value\n",
    "total_gen = h2.sum().value\n",
    "ax = plt.gca()\n",
    "handles, labels = ax.get_legend_handles_labels()\n",
    "new_labels = []\n",
    "for lab in labels:\n",
    "    if lab == 'Reco':\n",
    "        new_labels.append(f\"Reco (Total: {total_reco:.0f})\")\n",
    "    elif lab == 'Gen':\n",
    "        new_labels.append(f\"Gen (Total: {total_gen:.0f})\")\n",
    "    else:\n",
    "        new_labels.append(lab)\n",
    "ax.legend(handles, new_labels, loc='best', fontsize=12, framealpha=0.5)\n",
    "#plt.yscale('log')\n",
    "plt.xlim(0,200)"
   ]
  },
  {
   "cell_type": "code",
   "execution_count": 42,
   "id": "120496a4",
   "metadata": {},
   "outputs": [
    {
     "data": {
      "image/png": "[encoded data removed]",
      "text/plain": [
       "<Figure size 640x480 with 2 Axes>"
      ]
     },
     "metadata": {},
     "output_type": "display_data"
    }
   ],
   "source": [
    "h_resp = out['response_matrix_u'].project('ptgen', 'mgen', 'ptreco', 'mreco')\n",
    "resp_vals = h_resp.values(flow = True)\n",
    "resp_vals_2d = resp_vals.reshape(resp_vals.shape[0]*resp_vals.shape[1], resp_vals.shape[2]*resp_vals.shape[3])\n",
    "plt.imshow(resp_vals_2d, origin='lower', aspect='auto', cmap='viridis', norm = 'log')\n",
    "plt.colorbar(label='Counts')\n",
    "plt.xlabel('Reco bins (pt x m)')\n",
    "plt.ylabel('Gen bins (pt x m)')\n",
    "plt.title('Response Matrix Heatmap')\n",
    "plt.show()"
   ]
  },
  {
   "cell_type": "code",
   "execution_count": 43,
   "id": "0bc5c1d6",
   "metadata": {},
   "outputs": [
    {
     "data": {
      "text/plain": [
       "array([     0.    , 363053.1228,      0.    ,      0.    ,      0.    ])"
      ]
     },
     "execution_count": 43,
     "metadata": {},
     "output_type": "execute_result"
    }
   ],
   "source": [
    "resp_vals.sum(axis= (0,1,3))"
   ]
  },
  {
   "cell_type": "code",
   "execution_count": 44,
   "id": "6bf420b7",
   "metadata": {},
   "outputs": [
    {
     "name": "stdout",
     "output_type": "stream",
     "text": [
      "Output written to test_output.pkl with size 219.2 KB\n"
     ]
    }
   ],
   "source": [
    "import pickle\n",
    "with open(\"test_output.pkl\", \"wb\") as f:\n",
    "    pickle.dump(out, f)\n",
    "print(f\"Output written to test_output.pkl with size {os.path.getsize('test_output.pkl')/1e3:.1f} KB\")"
   ]
  },
  {
   "cell_type": "code",
   "execution_count": null,
   "id": "76f99ab5",
   "metadata": {},
   "outputs": [],
   "source": []
  },
  {
   "cell_type": "code",
   "execution_count": null,
   "id": "970f6ea6",
   "metadata": {},
   "outputs": [],
   "source": []
  }
 ],
 "metadata": {
  "kernelspec": {
   "display_name": "Python 3",
   "language": "python",
   "name": "python3"
  },
  "language_info": {
   "codemirror_mode": {
    "name": "ipython",
    "version": 3
   },
   "file_extension": ".py",
   "mimetype": "text/x-python",
   "name": "python",
   "nbconvert_exporter": "python",
   "pygments_lexer": "ipython3",
   "version": "3.10.18"
  }
 },
 "nbformat": 4,
 "nbformat_minor": 5
}
