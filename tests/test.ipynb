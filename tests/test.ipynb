{
 "cells": [
  {
   "cell_type": "code",
   "execution_count": 39,
   "id": "cd6de8cd-3598-4345-80c7-ce8e7eb279be",
   "metadata": {},
   "outputs": [],
   "source": [
    "def _ensure_import(modname: str, pip_spec: str = None, tag: str = None, extra_pip_args=()):\n",
    "    \"\"\"\n",
    "    Try to import `modname`. If it fails, pip-install `pip_spec` into /tmp cache,\n",
    "    add to sys.path, and import again. `tag` is used to make the cache path deterministic.\n",
    "    \"\"\"\n",
    "    try:\n",
    "        return __import__(modname)\n",
    "    except ImportError:\n",
    "        pass\n",
    "\n",
    "    base = os.environ.get(\"ZJET_CACHE_BASE\", \"/tmp/zjet_pkgs\")\n",
    "    tag = tag or modname\n",
    "    target = os.path.join(base, tag.replace(\"/\", \"_\"))\n",
    "    os.makedirs(target, exist_ok=True)\n",
    "\n",
    "    # crude file lock so many workers don't fight (best-effort)\n",
    "    lock = os.path.join(target, \".install.lock\")\n",
    "    try:\n",
    "        fd = os.open(lock, os.O_CREAT | os.O_EXCL | os.O_WRONLY)\n",
    "        os.close(fd)\n",
    "        # We won the \"lock\": perform install if not already present\n",
    "        marker = os.path.join(target, \".done\")\n",
    "        if not os.path.exists(marker):\n",
    "            cmd = [sys.executable, \"-m\", \"pip\", \"install\", \"--no-deps\", \"-q\", \"--target\", target, pip_spec]\n",
    "            if extra_pip_args:\n",
    "                cmd[6:6] = list(extra_pip_args)\n",
    "            code = subprocess.call(cmd)\n",
    "            if code != 0:\n",
    "                raise RuntimeError(f\"pip install failed for {pip_spec} (exit {code})\")\n",
    "            # mark success\n",
    "            with open(marker, \"w\") as f:\n",
    "                f.write(\"ok\")\n",
    "    except FileExistsError:\n",
    "        # someone else is installing; wait briefly\n",
    "        import time\n",
    "        for _ in range(120):\n",
    "            if os.path.exists(os.path.join(target, \".done\")):\n",
    "                break\n",
    "            time.sleep(0.5)\n",
    "    finally:\n",
    "        try:\n",
    "            os.remove(lock)\n",
    "        except OSError:\n",
    "            pass\n",
    "\n",
    "    if target not in sys.path:\n",
    "        sys.path.insert(0, target)\n",
    "    return __import__(modname)"
   ]
  },
  {
   "cell_type": "code",
   "execution_count": 40,
   "id": "55de6544",
   "metadata": {},
   "outputs": [],
   "source": [
    "import coffea\n",
    "import numpy as np\n",
    "import awkward as ak\n",
    "import uproot\n",
    "import pickle\n",
    "import os, sys, subprocess, json, gzip, correctionlib\n",
    "import time\n",
    "#sys.path.append(os.path.join(os.getcwd(), \"src/zjet_corrections\"))\n",
    "import sys, os\n",
    "sys.path.insert(0, os.path.abspath(\"/work\")) \n",
    "import importlib\n",
    "zjet_corrections = _ensure_import(\"zjet_corrections\")\n",
    "import zjet_corrections.zjet_processor\n",
    "\n",
    "importlib.reload(zjet_corrections.zjet_processor)\n",
    "\n",
    "from zjet_corrections.zjet_processor import QJetMassProcessor\n",
    "from coffea.nanoevents import NanoAODSchema\n",
    "from coffea import processor\n"
   ]
  },
  {
   "cell_type": "code",
   "execution_count": 41,
   "id": "f0d67b58",
   "metadata": {},
   "outputs": [
    {
     "name": "stdout",
     "output_type": "stream",
     "text": [
      "The autoreload extension is already loaded. To reload it, use:\n",
      "  %reload_ext autoreload\n"
     ]
    }
   ],
   "source": [
    "%load_ext autoreload\n",
    "%autoreload 2"
   ]
  },
  {
   "cell_type": "code",
   "execution_count": null,
   "id": "714b5bdf",
   "metadata": {},
   "outputs": [],
   "source": []
  },
  {
   "cell_type": "code",
   "execution_count": null,
   "id": "e4a6b9e5-ba97-47a4-99ee-e87cadc8d5b4",
   "metadata": {},
   "outputs": [],
   "source": []
  },
  {
   "cell_type": "code",
   "execution_count": 42,
   "id": "7f2eca92",
   "metadata": {},
   "outputs": [],
   "source": [
    "NanoAODSchema.warn_missing_crossrefs = False\n",
    "\n",
    "\n",
    "\n",
    "def make_runner(\n",
    "    use_dask: bool = False,\n",
    "    client=None,\n",
    "    workers: int = 1,\n",
    "    chunksize: int = 400_000,\n",
    "    maxchunks: int | None = 1,\n",
    "    skipbadfiles: bool = True,\n",
    "):\n",
    "    \"\"\"\n",
    "    If use_dask=True, 'client' must be an existing distributed.Client.\n",
    "    Otherwise falls back to FuturesExecutor(workers=...).\n",
    "    \"\"\"\n",
    "    if use_dask:\n",
    "        if client is None:\n",
    "            raise ValueError(\"use_dask=True but no Dask 'client' was provided.\")\n",
    "        executor = processor.DaskExecutor(\n",
    "            client=client,\n",
    "            status=True,      # progress bar\n",
    "            retries=1,        # re-try failed chunks\n",
    "        )\n",
    "    else:\n",
    "        executor = processor.FuturesExecutor(\n",
    "            workers=workers,\n",
    "            status=True,      # progress bar\n",
    "            compression=None, # keep your original choice\n",
    "        )\n",
    "\n",
    "    return processor.Runner(\n",
    "        executor=executor,\n",
    "        schema=NanoAODSchema,\n",
    "        chunksize=chunksize,\n",
    "        maxchunks=maxchunks,\n",
    "        skipbadfiles=skipbadfiles,\n",
    "    )\n",
    "\n",
    "# -------------------------\n",
    "# Usage (Futures locally):\n",
    "# -------------------------\n",
    "# run = make_runner(use_dask=False, workers=1, chunksize=100000, maxchunks=None)\n",
    "# out = run(fileset, \"Events\", processor_instance=ZmmMinimal())"
   ]
  },
  {
   "cell_type": "code",
   "execution_count": 43,
   "id": "592822e1",
   "metadata": {},
   "outputs": [
    {
     "data": {
      "text/plain": [
       "'/home/cms-jovyan/new_git/zjet_corrections/tests'"
      ]
     },
     "execution_count": 43,
     "metadata": {},
     "output_type": "execute_result"
    }
   ],
   "source": [
    "os.getcwd()"
   ]
  },
  {
   "cell_type": "code",
   "execution_count": 44,
   "id": "53c8385c",
   "metadata": {},
   "outputs": [
    {
     "data": {
      "text/plain": [
       "'/home/cms-jovyan/new_git/zjet_corrections/tests'"
      ]
     },
     "execution_count": 44,
     "metadata": {},
     "output_type": "execute_result"
    }
   ],
   "source": [
    "os.getcwd()"
   ]
  },
  {
   "cell_type": "code",
   "execution_count": 45,
   "id": "3fa30000",
   "metadata": {},
   "outputs": [],
   "source": [
    "prependstr = 'root://xcache/'\n",
    "#prependstr = \"root://cmsxrootd.fnal.gov/\"\n",
    "with open('samples.txt') as f:\n",
    "    lines = f.readlines()\n",
    "files = []\n",
    "for line in lines:\n",
    "    files.append(prependstr + line[:-1])\n",
    "fileset = {\n",
    "    'DYJetsToLL_M-50': files\n",
    "\n",
    "}"
   ]
  },
  {
   "cell_type": "code",
   "execution_count": 46,
   "id": "3597b9a0-acb5-4de4-842d-830846bde24e",
   "metadata": {},
   "outputs": [
    {
     "data": {
      "text/html": [
       "<div>\n",
       "    <div style=\"width: 24px; height: 24px; background-color: #e1e1e1; border: 3px solid #9D9D9D; border-radius: 5px; position: absolute;\"> </div>\n",
       "    <div style=\"margin-left: 48px;\">\n",
       "        <h3 style=\"margin-bottom: 0px;\">Client</h3>\n",
       "        <p style=\"color: #9D9D9D; margin-bottom: 0px;\">Client-94a31182-abb7-11f0-8578-eec8537a1fcf</p>\n",
       "        <table style=\"width: 100%; text-align: left;\">\n",
       "\n",
       "        <tr>\n",
       "        \n",
       "            <td style=\"text-align: left;\"><strong>Connection method:</strong> Direct</td>\n",
       "            <td style=\"text-align: left;\"></td>\n",
       "        \n",
       "        </tr>\n",
       "\n",
       "        \n",
       "            <tr>\n",
       "                <td style=\"text-align: left;\">\n",
       "                    <strong>Dashboard: </strong> <a href=\"/user/aritra.mandal@cern.ch/proxy/8787/status\" target=\"_blank\">/user/aritra.mandal@cern.ch/proxy/8787/status</a>\n",
       "                </td>\n",
       "                <td style=\"text-align: left;\"></td>\n",
       "            </tr>\n",
       "        \n",
       "\n",
       "        </table>\n",
       "\n",
       "        \n",
       "            <button style=\"margin-bottom: 12px;\" data-commandlinker-command=\"dask:populate-and-launch-layout\" data-commandlinker-args='{\"url\": \"/user/aritra.mandal@cern.ch/proxy/8787/status\" }'>\n",
       "                Launch dashboard in JupyterLab\n",
       "            </button>\n",
       "        \n",
       "\n",
       "        \n",
       "            <details>\n",
       "            <summary style=\"margin-bottom: 20px;\"><h3 style=\"display: inline;\">Scheduler Info</h3></summary>\n",
       "            <div style=\"\">\n",
       "    <div>\n",
       "        <div style=\"width: 24px; height: 24px; background-color: #FFF7E5; border: 3px solid #FF6132; border-radius: 5px; position: absolute;\"> </div>\n",
       "        <div style=\"margin-left: 48px;\">\n",
       "            <h3 style=\"margin-bottom: 0px;\">Scheduler</h3>\n",
       "            <p style=\"color: #9D9D9D; margin-bottom: 0px;\">Scheduler-d00dade9-2971-47af-bdc4-d410e424405f</p>\n",
       "            <table style=\"width: 100%; text-align: left;\">\n",
       "                <tr>\n",
       "                    <td style=\"text-align: left;\">\n",
       "                        <strong>Comm:</strong> tls://192.168.202.36:8786\n",
       "                    </td>\n",
       "                    <td style=\"text-align: left;\">\n",
       "                        <strong>Workers:</strong> 1\n",
       "                    </td>\n",
       "                </tr>\n",
       "                <tr>\n",
       "                    <td style=\"text-align: left;\">\n",
       "                        <strong>Dashboard:</strong> <a href=\"/user/aritra.mandal@cern.ch/proxy/8787/status\" target=\"_blank\">/user/aritra.mandal@cern.ch/proxy/8787/status</a>\n",
       "                    </td>\n",
       "                    <td style=\"text-align: left;\">\n",
       "                        <strong>Total threads:</strong> 1\n",
       "                    </td>\n",
       "                </tr>\n",
       "                <tr>\n",
       "                    <td style=\"text-align: left;\">\n",
       "                        <strong>Started:</strong> 44 minutes ago\n",
       "                    </td>\n",
       "                    <td style=\"text-align: left;\">\n",
       "                        <strong>Total memory:</strong> 2.89 GiB\n",
       "                    </td>\n",
       "                </tr>\n",
       "            </table>\n",
       "        </div>\n",
       "    </div>\n",
       "\n",
       "    <details style=\"margin-left: 48px;\">\n",
       "        <summary style=\"margin-bottom: 20px;\">\n",
       "            <h3 style=\"display: inline;\">Workers</h3>\n",
       "        </summary>\n",
       "\n",
       "        \n",
       "        <div style=\"margin-bottom: 20px;\">\n",
       "            <div style=\"width: 24px; height: 24px; background-color: #DBF5FF; border: 3px solid #4CC9FF; border-radius: 5px; position: absolute;\"> </div>\n",
       "            <div style=\"margin-left: 48px;\">\n",
       "            <details>\n",
       "                <summary>\n",
       "                    <h4 style=\"margin-bottom: 0px; display: inline;\">Worker: htcondor--22951778.0--</h4>\n",
       "                </summary>\n",
       "                <table style=\"width: 100%; text-align: left;\">\n",
       "                    <tr>\n",
       "                        <td style=\"text-align: left;\">\n",
       "                            <strong>Comm: </strong> tls://129.93.182.116:35029\n",
       "                        </td>\n",
       "                        <td style=\"text-align: left;\">\n",
       "                            <strong>Total threads: </strong> 1\n",
       "                        </td>\n",
       "                    </tr>\n",
       "                    <tr>\n",
       "                        <td style=\"text-align: left;\">\n",
       "                            <strong>Dashboard: </strong> <a href=\"/user/aritra.mandal@cern.ch/proxy/37551/status\" target=\"_blank\">/user/aritra.mandal@cern.ch/proxy/37551/status</a>\n",
       "                        </td>\n",
       "                        <td style=\"text-align: left;\">\n",
       "                            <strong>Memory: </strong> 2.89 GiB\n",
       "                        </td>\n",
       "                    </tr>\n",
       "                    <tr>\n",
       "                        <td style=\"text-align: left;\">\n",
       "                            <strong>Nanny: </strong> tls://172.19.0.20:43715\n",
       "                        </td>\n",
       "                        <td style=\"text-align: left;\"></td>\n",
       "                    </tr>\n",
       "                    <tr>\n",
       "                        <td colspan=\"2\" style=\"text-align: left;\">\n",
       "                            <strong>Local directory: </strong> /var/lib/condor/execute/dir_1716840/dask-scratch-space/worker-hrgenbou\n",
       "                        </td>\n",
       "                    </tr>\n",
       "\n",
       "                    \n",
       "\n",
       "                    \n",
       "                    <tr>\n",
       "                        <td style=\"text-align: left;\">\n",
       "                            <strong>Tasks executing: </strong> \n",
       "                        </td>\n",
       "                        <td style=\"text-align: left;\">\n",
       "                            <strong>Tasks in memory: </strong> \n",
       "                        </td>\n",
       "                    </tr>\n",
       "                    <tr>\n",
       "                        <td style=\"text-align: left;\">\n",
       "                            <strong>Tasks ready: </strong> \n",
       "                        </td>\n",
       "                        <td style=\"text-align: left;\">\n",
       "                            <strong>Tasks in flight: </strong>\n",
       "                        </td>\n",
       "                    </tr>\n",
       "                    <tr>\n",
       "                        <td style=\"text-align: left;\">\n",
       "                            <strong>CPU usage:</strong> 2.0%\n",
       "                        </td>\n",
       "                        <td style=\"text-align: left;\">\n",
       "                            <strong>Last seen: </strong> Just now\n",
       "                        </td>\n",
       "                    </tr>\n",
       "                    <tr>\n",
       "                        <td style=\"text-align: left;\">\n",
       "                            <strong>Memory usage: </strong> 647.96 MiB\n",
       "                        </td>\n",
       "                        <td style=\"text-align: left;\">\n",
       "                            <strong>Spilled bytes: </strong> 0 B\n",
       "                        </td>\n",
       "                    </tr>\n",
       "                    <tr>\n",
       "                        <td style=\"text-align: left;\">\n",
       "                            <strong>Read bytes: </strong> 329.7231782412903 B\n",
       "                        </td>\n",
       "                        <td style=\"text-align: left;\">\n",
       "                            <strong>Write bytes: </strong> 1.49 kiB\n",
       "                        </td>\n",
       "                    </tr>\n",
       "                    \n",
       "\n",
       "                </table>\n",
       "            </details>\n",
       "            </div>\n",
       "        </div>\n",
       "        \n",
       "\n",
       "    </details>\n",
       "</div>\n",
       "            </details>\n",
       "        \n",
       "\n",
       "    </div>\n",
       "</div>"
      ],
      "text/plain": [
       "<Client: 'tls://192.168.202.36:8786' processes=1 threads=1, memory=2.89 GiB>"
      ]
     },
     "execution_count": 46,
     "metadata": {},
     "output_type": "execute_result"
    }
   ],
   "source": [
    "from dask.distributed import Client\n",
    "\n",
    "client = Client(\"tls://192.168.202.36:8786\")\n",
    "client"
   ]
  },
  {
   "cell_type": "code",
   "execution_count": 47,
   "id": "95ef290d-0704-43bf-bb67-b33bd4ac1a46",
   "metadata": {},
   "outputs": [
    {
     "data": {
      "text/plain": [
       "'/home/cms-jovyan/new_git/zjet_corrections/tests'"
      ]
     },
     "execution_count": 47,
     "metadata": {},
     "output_type": "execute_result"
    }
   ],
   "source": [
    "os.getcwd()"
   ]
  },
  {
   "cell_type": "code",
   "execution_count": 48,
   "id": "0cc11793",
   "metadata": {},
   "outputs": [
    {
     "data": {
      "text/plain": [
       "{'tls://129.93.182.116:35029': {'status': 'OK'}}"
      ]
     },
     "execution_count": 48,
     "metadata": {},
     "output_type": "execute_result"
    }
   ],
   "source": [
    "import shutil, os, pathlib\n",
    "\n",
    "pkg_dir = pathlib.Path(\"/home/cms-jovyan/new_git/zjet_corrections/src/zjet_corrections\")   # or the actual path to your package dir\n",
    "zip_path = pathlib.Path(\"/tmp/zjet_corrections.zip\")\n",
    "if zip_path.exists():\n",
    "    zip_path.unlink()\n",
    "shutil.make_archive(zip_path.with_suffix(\"\"), \"zip\", pkg_dir.parent, pkg_dir.name)\n",
    "\n",
    "client.upload_file(str(zip_path))  # uploads the zip and adds it to workers' sys.path"
   ]
  },
  {
   "cell_type": "code",
   "execution_count": 50,
   "id": "ededadb2",
   "metadata": {},
   "outputs": [
    {
     "name": "stdout",
     "output_type": "stream",
     "text": [
      "[INFO] Scaled ptjet_mjet_u_reco for dataset DYJetsToLL_M-50 by 3.813220 = 6077.22 * 59740.0 / 95209064.0\n",
      "[INFO] Scaled ptjet_mjet_g_reco for dataset DYJetsToLL_M-50 by 3.813220 = 6077.22 * 59740.0 / 95209064.0\n",
      "[INFO] Scaled ptjet_mjet_u_gen for dataset DYJetsToLL_M-50 by 3.813220 = 6077.22 * 59740.0 / 95209064.0\n",
      "[INFO] Scaled response_matrix_u for dataset DYJetsToLL_M-50 by 3.813220 = 6077.22 * 59740.0 / 95209064.0\n",
      "[INFO] Scaled response_matrix_g for dataset DYJetsToLL_M-50 by 3.813220 = 6077.22 * 59740.0 / 95209064.0\n",
      "Done Running, time taken 215.68 seconds\n"
     ]
    }
   ],
   "source": [
    "#fileset_test = {\"DYJets\":[\"/work/ws/zjet_corrections/tests/DYjets.root\"]}\n",
    "fileset_test = {list(fileset.keys())[0]:[fileset[list(fileset.keys())[0]][3]]}\n",
    "run = make_runner(use_dask=True, client=client, chunksize=400000, maxchunks=None)\n",
    "t0 = time.time()\n",
    "out = run(fileset, \"Events\", processor_instance=QJetMassProcessor(debug=True))\n",
    "t1 = time.time()\n",
    "print(f\"Done Running, time taken {(t1-t0):.2f} seconds\")"
   ]
  },
  {
   "cell_type": "code",
   "execution_count": 56,
   "id": "3060da09-4e3b-44fc-8e22-6bd53cc3db64",
   "metadata": {},
   "outputs": [
    {
     "data": {
      "text/plain": [
       "(0.0, 200.0)"
      ]
     },
     "execution_count": 56,
     "metadata": {},
     "output_type": "execute_result"
    },
    {
     "data": {
      "image/png": "[encoded data removed]",
      "text/plain": [
       "<Figure size 640x480 with 1 Axes>"
      ]
     },
     "metadata": {},
     "output_type": "display_data"
    }
   ],
   "source": [
    "import hist\n",
    "import matplotlib.pyplot as plt\n",
    "h1 = out['ptjet_mjet_u_gen'].project('ptgen','mgen')[2,hist.rebin(1)]\n",
    "h2 = out['response_matrix_u'].project('ptgen','mgen')[2,hist.rebin(1)]\n",
    "h1.plot(label='Truth')\n",
    "h2.plot(label='Matrix Proj')\n",
    "plt.legend()\n",
    "total_reco = h1.sum().value\n",
    "total_gen = h2.sum().value\n",
    "ax = plt.gca()\n",
    "handles, labels = ax.get_legend_handles_labels()\n",
    "new_labels = []\n",
    "for lab in labels:\n",
    "    if lab == 'Reco':\n",
    "        new_labels.append(f\"Reco (Total: {total_reco:.0f})\")\n",
    "    elif lab == 'Gen':\n",
    "        new_labels.append(f\"Gen (Total: {total_gen:.0f})\")\n",
    "    else:\n",
    "        new_labels.append(lab)\n",
    "ax.legend(handles, new_labels, loc='best', fontsize=12, framealpha=0.5)\n",
    "#plt.yscale('log')\n",
    "plt.xlim(0,200)"
   ]
  },
  {
   "cell_type": "code",
   "execution_count": 20,
   "id": "542b427c",
   "metadata": {},
   "outputs": [
    {
     "data": {
      "text/plain": [
       "(0.0, 200.0)"
      ]
     },
     "execution_count": 20,
     "metadata": {},
     "output_type": "execute_result"
    },
    {
     "data": {
      "image/png": "[encoded data removed]",
      "text/plain": [
       "<Figure size 640x480 with 1 Axes>"
      ]
     },
     "metadata": {},
     "output_type": "display_data"
    }
   ],
   "source": [
    "import hist\n",
    "import matplotlib.pyplot as plt\n",
    "h1 = out['ptjet_mjet_u_reco'].project('ptreco','mreco')[0,hist.rebin(2)]\n",
    "h2 = out['ptjet_mjet_u_gen'].project('ptgen','mgen')[0,hist.rebin(1)]\n",
    "h1.plot(label='Reco')\n",
    "h2.plot(label='Gen')\n",
    "plt.legend()\n",
    "total_reco = h1.sum().value\n",
    "total_gen = h2.sum().value\n",
    "ax = plt.gca()\n",
    "handles, labels = ax.get_legend_handles_labels()\n",
    "new_labels = []\n",
    "for lab in labels:\n",
    "    if lab == 'Reco':\n",
    "        new_labels.append(f\"Reco (Total: {total_reco:.0f})\")\n",
    "    elif lab == 'Gen':\n",
    "        new_labels.append(f\"Gen (Total: {total_gen:.0f})\")\n",
    "    else:\n",
    "        new_labels.append(lab)\n",
    "ax.legend(handles, new_labels, loc='best', fontsize=12, framealpha=0.5)\n",
    "#plt.yscale('log')\n",
    "plt.xlim(0,200)"
   ]
  },
  {
   "cell_type": "code",
   "execution_count": 13,
   "id": "aaeceb14",
   "metadata": {},
   "outputs": [
    {
     "name": "stderr",
     "output_type": "stream",
     "text": [
      "/usr/local/lib/python3.10/site-packages/mplhep/utils.py:486: RuntimeWarning: All sumw are zero!  Cannot compute meaningful error bars\n",
      "  return np.abs(method_fcn(self.values, variances) - self.values)\n"
     ]
    },
    {
     "data": {
      "text/plain": [
       "(0.0, 200.0)"
      ]
     },
     "execution_count": 13,
     "metadata": {},
     "output_type": "execute_result"
    },
    {
     "data": {
      "image/png": "[encoded data removed]",
      "text/plain": [
       "<Figure size 640x480 with 1 Axes>"
      ]
     },
     "metadata": {},
     "output_type": "display_data"
    }
   ],
   "source": [
    "import hist\n",
    "import matplotlib.pyplot as plt\n",
    "h1 = out['ptjet_mjet_g_reco'].project('mreco')[hist.rebin(2)]\n",
    "h2 = out['ptjet_mjet_g_gen'].project('mgen')[hist.rebin(1)]\n",
    "h1.plot(label='Reco')\n",
    "h2.plot(label='Gen')\n",
    "plt.legend()\n",
    "total_reco = h1.sum().value\n",
    "total_gen = h2.sum().value\n",
    "ax = plt.gca()\n",
    "handles, labels = ax.get_legend_handles_labels()\n",
    "new_labels = []\n",
    "for lab in labels:\n",
    "    if lab == 'Reco':\n",
    "        new_labels.append(f\"Reco (Total: {total_reco:.0f})\")\n",
    "    elif lab == 'Gen':\n",
    "        new_labels.append(f\"Gen (Total: {total_gen:.0f})\")\n",
    "    else:\n",
    "        new_labels.append(lab)\n",
    "ax.legend(handles, new_labels, loc='best', fontsize=12, framealpha=0.5)\n",
    "#plt.yscale('log')\n",
    "plt.xlim(0,200)"
   ]
  },
  {
   "cell_type": "code",
   "execution_count": 17,
   "id": "120496a4",
   "metadata": {},
   "outputs": [
    {
     "data": {
      "image/png": "[encoded data removed]",
      "text/plain": [
       "<Figure size 640x480 with 2 Axes>"
      ]
     },
     "metadata": {},
     "output_type": "display_data"
    }
   ],
   "source": [
    "h_resp = out['response_matrix_u'].project('ptgen', 'mgen', 'ptreco', 'mreco')\n",
    "resp_vals = h_resp.values(flow = True)\n",
    "resp_vals_2d = resp_vals.reshape(resp_vals.shape[0]*resp_vals.shape[1], resp_vals.shape[2]*resp_vals.shape[3])\n",
    "plt.imshow(resp_vals_2d, origin='lower', aspect='auto', cmap='viridis', norm = 'log')\n",
    "plt.colorbar(label='Counts')\n",
    "plt.xlabel('Reco bins (pt x m)')\n",
    "plt.ylabel('Gen bins (pt x m)')\n",
    "plt.title('Response Matrix Heatmap')\n",
    "plt.show()"
   ]
  },
  {
   "cell_type": "code",
   "execution_count": 15,
   "id": "0bc5c1d6",
   "metadata": {},
   "outputs": [
    {
     "data": {
      "text/plain": [
       "array([20116., 20642.,  4499.,  1715.,     0.])"
      ]
     },
     "execution_count": 15,
     "metadata": {},
     "output_type": "execute_result"
    }
   ],
   "source": [
    "resp_vals.sum(axis= (0,1,3))"
   ]
  },
  {
   "cell_type": "code",
   "execution_count": 16,
   "id": "6bf420b7",
   "metadata": {},
   "outputs": [
    {
     "name": "stdout",
     "output_type": "stream",
     "text": [
      "Output written to test_output.pkl with size 219.3 KB\n"
     ]
    }
   ],
   "source": [
    "import pickle\n",
    "with open(\"test_output.pkl\", \"wb\") as f:\n",
    "    pickle.dump(out, f)\n",
    "print(f\"Output written to test_output.pkl with size {os.path.getsize('test_output.pkl')/1e3:.1f} KB\")"
   ]
  },
  {
   "cell_type": "code",
   "execution_count": null,
   "id": "0b0e1582",
   "metadata": {},
   "outputs": [],
   "source": []
  }
 ],
 "metadata": {
  "kernelspec": {
   "display_name": "Python 3 (ipykernel)",
   "language": "python",
   "name": "python3"
  },
  "language_info": {
   "codemirror_mode": {
    "name": "ipython",
    "version": 3
   },
   "file_extension": ".py",
   "mimetype": "text/x-python",
   "name": "python",
   "nbconvert_exporter": "python",
   "pygments_lexer": "ipython3",
   "version": "3.10.14"
  }
 },
 "nbformat": 4,
 "nbformat_minor": 5
}
