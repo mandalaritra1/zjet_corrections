{
 "cells": [
  {
   "cell_type": "code",
   "execution_count": null,
   "id": "55de6544",
   "metadata": {},
   "outputs": [
    {
     "ename": "ModuleNotFoundError",
     "evalue": "No module named 'coffea'",
     "output_type": "error",
     "traceback": [
      "\u001b[31m---------------------------------------------------------------------------\u001b[39m",
      "\u001b[31mModuleNotFoundError\u001b[39m                       Traceback (most recent call last)",
      "\u001b[36mCell\u001b[39m\u001b[36m \u001b[39m\u001b[32mIn[1]\u001b[39m\u001b[32m, line 1\u001b[39m\n\u001b[32m----> \u001b[39m\u001b[32m1\u001b[39m \u001b[38;5;28;01mimport\u001b[39;00m\u001b[38;5;250m \u001b[39m\u001b[34;01mcoffea\u001b[39;00m\n\u001b[32m      2\u001b[39m \u001b[38;5;28;01mimport\u001b[39;00m\u001b[38;5;250m \u001b[39m\u001b[34;01mnumpy\u001b[39;00m\u001b[38;5;250m \u001b[39m\u001b[38;5;28;01mas\u001b[39;00m\u001b[38;5;250m \u001b[39m\u001b[34;01mnp\u001b[39;00m\n\u001b[32m      3\u001b[39m \u001b[38;5;28;01mimport\u001b[39;00m\u001b[38;5;250m \u001b[39m\u001b[34;01mawkward\u001b[39;00m\u001b[38;5;250m \u001b[39m\u001b[38;5;28;01mas\u001b[39;00m\u001b[38;5;250m \u001b[39m\u001b[34;01mak\u001b[39;00m\n",
      "\u001b[31mModuleNotFoundError\u001b[39m: No module named 'coffea'"
     ]
    }
   ],
   "source": [
    "import coffead\n",
    "import numpy as np\n",
    "import awkward as ak\n",
    "import uproot\n",
    "import pickle\n",
    "import os, sys, subprocess, json, gzip, correctionlib\n",
    "import time\n",
    "\n",
    "from zjet_corrections.zjet_processor import QJetMassProcessor"
   ]
  },
  {
   "cell_type": "code",
   "execution_count": null,
   "id": "7f2eca92",
   "metadata": {},
   "outputs": [],
   "source": [
    "NanoAODSchema.warn_missing_crossrefs = False\n",
    "\n",
    "\n",
    "\n",
    "def make_runner(\n",
    "    use_dask: bool = False,\n",
    "    client=None,\n",
    "    workers: int = 1,\n",
    "    chunksize: int = 400_000,\n",
    "    maxchunks: int | None = 1,\n",
    "    skipbadfiles: bool = True,\n",
    "):\n",
    "    \"\"\"\n",
    "    If use_dask=True, 'client' must be an existing distributed.Client.\n",
    "    Otherwise falls back to FuturesExecutor(workers=...).\n",
    "    \"\"\"\n",
    "    if use_dask:\n",
    "        if client is None:\n",
    "            raise ValueError(\"use_dask=True but no Dask 'client' was provided.\")\n",
    "        executor = processor.DaskExecutor(\n",
    "            client=client,\n",
    "            status=True,      # progress bar\n",
    "            retries=1,        # re-try failed chunks\n",
    "        )\n",
    "    else:\n",
    "        executor = processor.FuturesExecutor(\n",
    "            workers=workers,\n",
    "            status=True,      # progress bar\n",
    "            compression=None, # keep your original choice\n",
    "        )\n",
    "\n",
    "    return processor.Runner(\n",
    "        executor=executor,\n",
    "        schema=NanoAODSchema,\n",
    "        chunksize=chunksize,\n",
    "        maxchunks=maxchunks,\n",
    "        skipbadfiles=skipbadfiles,\n",
    "    )\n",
    "\n",
    "# -------------------------\n",
    "# Usage (Futures locally):\n",
    "# -------------------------\n",
    "# run = make_runner(use_dask=False, workers=1, chunksize=100000, maxchunks=None)\n",
    "# out = run(fileset, \"Events\", processor_instance=ZmmMinimal())"
   ]
  },
  {
   "cell_type": "code",
   "execution_count": null,
   "id": "592822e1",
   "metadata": {},
   "outputs": [],
   "source": []
  },
  {
   "cell_type": "code",
   "execution_count": null,
   "id": "ededadb2",
   "metadata": {},
   "outputs": [],
   "source": [
    "fileset_test = {\"DYJets\":[\"DYJets.root\"]}\n",
    "#fileset_test = {'hello':[\"root://cmsxrootd.fnal.gov//store/mc/RunIISummer20UL16NanoAODv9/DYJetsToLL_M-50_TuneCP5_13TeV-madgraphMLM-pythia8/NANOAODSIM/20UL16JMENano_106X_mcRun2_asymptotic_v17-v1/40000/7F31C071-5572-804B-807C-661C3E00016F.root\"]}\n",
    "run = make_runner(use_dask=True, client=client, chunksize=200_000, maxchunks=None)\n",
    "t0 = time.time()\n",
    "out = run(fileset_test, \"Events\", processor_instance=QJetMassProcessor())\n",
    "t1 = time.time()\n",
    "print(f\"Done Running, time taken {(t1-t0):.2f} seconds\")"
   ]
  }
 ],
 "metadata": {
  "kernelspec": {
   "display_name": "default (3.12.3)",
   "language": "python",
   "name": "python3"
  },
  "language_info": {
   "codemirror_mode": {
    "name": "ipython",
    "version": 3
   },
   "file_extension": ".py",
   "mimetype": "text/x-python",
   "name": "python",
   "nbconvert_exporter": "python",
   "pygments_lexer": "ipython3",
   "version": "3.12.3"
  }
 },
 "nbformat": 4,
 "nbformat_minor": 5
}
