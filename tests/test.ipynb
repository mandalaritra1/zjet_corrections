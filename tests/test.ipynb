{
 "cells": [
  {
   "cell_type": "code",
   "execution_count": 30,
   "id": "55de6544",
   "metadata": {},
   "outputs": [],
   "source": [
    "import coffea\n",
    "import numpy as np\n",
    "import awkward as ak\n",
    "import uproot\n",
    "import pickle\n",
    "import os, sys, subprocess, json, gzip, correctionlib\n",
    "import time\n",
    "#sys.path.append(os.path.join(os.getcwd(), \"src/zjet_corrections\"))\n",
    "import sys, os\n",
    "sys.path.insert(0, os.path.abspath(\"/work\")) \n",
    "import importlib\n",
    "import zjet_corrections.zjet_processor\n",
    "\n",
    "importlib.reload(zjet_corrections.zjet_processor)\n",
    "\n",
    "from zjet_corrections.zjet_processor import QJetMassProcessor\n",
    "from coffea.nanoevents import NanoAODSchema\n",
    "from coffea import processor\n"
   ]
  },
  {
   "cell_type": "code",
   "execution_count": 35,
   "id": "f0d67b58",
   "metadata": {},
   "outputs": [],
   "source": [
    "%load_ext autoreload\n",
    "%autoreload 2"
   ]
  },
  {
   "cell_type": "code",
   "execution_count": null,
   "id": "714b5bdf",
   "metadata": {},
   "outputs": [],
   "source": []
  },
  {
   "cell_type": "code",
   "execution_count": 36,
   "id": "7f2eca92",
   "metadata": {},
   "outputs": [],
   "source": [
    "NanoAODSchema.warn_missing_crossrefs = False\n",
    "\n",
    "\n",
    "\n",
    "def make_runner(\n",
    "    use_dask: bool = False,\n",
    "    client=None,\n",
    "    workers: int = 1,\n",
    "    chunksize: int = 400_000,\n",
    "    maxchunks: int | None = 1,\n",
    "    skipbadfiles: bool = True,\n",
    "):\n",
    "    \"\"\"\n",
    "    If use_dask=True, 'client' must be an existing distributed.Client.\n",
    "    Otherwise falls back to FuturesExecutor(workers=...).\n",
    "    \"\"\"\n",
    "    if use_dask:\n",
    "        if client is None:\n",
    "            raise ValueError(\"use_dask=True but no Dask 'client' was provided.\")\n",
    "        executor = processor.DaskExecutor(\n",
    "            client=client,\n",
    "            status=True,      # progress bar\n",
    "            retries=1,        # re-try failed chunks\n",
    "        )\n",
    "    else:\n",
    "        executor = processor.FuturesExecutor(\n",
    "            workers=workers,\n",
    "            status=True,      # progress bar\n",
    "            compression=None, # keep your original choice\n",
    "        )\n",
    "\n",
    "    return processor.Runner(\n",
    "        executor=executor,\n",
    "        schema=NanoAODSchema,\n",
    "        chunksize=chunksize,\n",
    "        maxchunks=maxchunks,\n",
    "        skipbadfiles=skipbadfiles,\n",
    "    )\n",
    "\n",
    "# -------------------------\n",
    "# Usage (Futures locally):\n",
    "# -------------------------\n",
    "# run = make_runner(use_dask=False, workers=1, chunksize=100000, maxchunks=None)\n",
    "# out = run(fileset, \"Events\", processor_instance=ZmmMinimal())"
   ]
  },
  {
   "cell_type": "code",
   "execution_count": 37,
   "id": "592822e1",
   "metadata": {},
   "outputs": [
    {
     "data": {
      "text/plain": [
       "'/work/ws/zjet_corrections'"
      ]
     },
     "execution_count": 37,
     "metadata": {},
     "output_type": "execute_result"
    }
   ],
   "source": [
    "os.getcwd()"
   ]
  },
  {
   "cell_type": "code",
   "execution_count": 44,
   "id": "ededadb2",
   "metadata": {},
   "outputs": [
    {
     "data": {
      "application/vnd.jupyter.widget-view+json": {
       "model_id": "04bbec6a2ec74ce999779bb164cc27ef",
       "version_major": 2,
       "version_minor": 0
      },
      "text/plain": [
       "Output()"
      ]
     },
     "metadata": {},
     "output_type": "display_data"
    },
    {
     "name": "stderr",
     "output_type": "stream",
     "text": [
      "INFO:root:Starting processing for dataset: DYJets and file: /work/ws/zjet_corrections/tests/DYjets.root\n"
     ]
    },
    {
     "name": "stderr",
     "output_type": "stream",
     "text": [
      "INFO:root:Starting processing for dataset: DYJets and file: /work/ws/zjet_corrections/tests/DYjets.root\n"
     ]
    },
    {
     "name": "stderr",
     "output_type": "stream",
     "text": [
      "INFO:root:Starting processing for dataset: DYJets and file: /work/ws/zjet_corrections/tests/DYjets.root\n"
     ]
    },
    {
     "data": {
      "text/html": [
       "<pre style=\"white-space:pre;overflow-x:auto;line-height:normal;font-family:Menlo,'DejaVu Sans Mono',consolas,'Courier New',monospace\"></pre>\n"
      ],
      "text/plain": []
     },
     "metadata": {},
     "output_type": "display_data"
    },
    {
     "ename": "AttributeError",
     "evalue": "'QJetMassProcessor' object has no attribute 'lumi_fb'",
     "output_type": "error",
     "traceback": [
      "\u001b[0;31m---------------------------------------------------------------------------\u001b[0m",
      "\u001b[0;31mAttributeError\u001b[0m                            Traceback (most recent call last)",
      "Cell \u001b[0;32mIn[44], line 5\u001b[0m\n\u001b[1;32m      3\u001b[0m run \u001b[38;5;241m=\u001b[39m make_runner(use_dask\u001b[38;5;241m=\u001b[39m\u001b[38;5;28;01mFalse\u001b[39;00m, client\u001b[38;5;241m=\u001b[39m\u001b[38;5;28;01mNone\u001b[39;00m, chunksize\u001b[38;5;241m=\u001b[39m\u001b[38;5;241m200_000\u001b[39m, maxchunks\u001b[38;5;241m=\u001b[39m\u001b[38;5;28;01mNone\u001b[39;00m)\n\u001b[1;32m      4\u001b[0m t0 \u001b[38;5;241m=\u001b[39m time\u001b[38;5;241m.\u001b[39mtime()\n\u001b[0;32m----> 5\u001b[0m out \u001b[38;5;241m=\u001b[39m \u001b[43mrun\u001b[49m\u001b[43m(\u001b[49m\u001b[43mfileset_test\u001b[49m\u001b[43m,\u001b[49m\u001b[43m \u001b[49m\u001b[38;5;124;43m\"\u001b[39;49m\u001b[38;5;124;43mEvents\u001b[39;49m\u001b[38;5;124;43m\"\u001b[39;49m\u001b[43m,\u001b[49m\u001b[43m \u001b[49m\u001b[43mprocessor_instance\u001b[49m\u001b[38;5;241;43m=\u001b[39;49m\u001b[43mQJetMassProcessor\u001b[49m\u001b[43m(\u001b[49m\u001b[43mdebug\u001b[49m\u001b[38;5;241;43m=\u001b[39;49m\u001b[38;5;28;43;01mTrue\u001b[39;49;00m\u001b[43m)\u001b[49m\u001b[43m)\u001b[49m\n\u001b[1;32m      6\u001b[0m t1 \u001b[38;5;241m=\u001b[39m time\u001b[38;5;241m.\u001b[39mtime()\n\u001b[1;32m      7\u001b[0m \u001b[38;5;28mprint\u001b[39m(\u001b[38;5;124mf\u001b[39m\u001b[38;5;124m\"\u001b[39m\u001b[38;5;124mDone Running, time taken \u001b[39m\u001b[38;5;132;01m{\u001b[39;00m(t1\u001b[38;5;241m-\u001b[39mt0)\u001b[38;5;132;01m:\u001b[39;00m\u001b[38;5;124m.2f\u001b[39m\u001b[38;5;132;01m}\u001b[39;00m\u001b[38;5;124m seconds\u001b[39m\u001b[38;5;124m\"\u001b[39m)\n",
      "File \u001b[0;32m/usr/local/lib/python3.10/site-packages/coffea/processor/executor.py:1885\u001b[0m, in \u001b[0;36mRunner.__call__\u001b[0;34m(self, fileset, treename, processor_instance)\u001b[0m\n\u001b[1;32m   1864\u001b[0m \u001b[38;5;28;01mdef\u001b[39;00m\u001b[38;5;250m \u001b[39m\u001b[38;5;21m__call__\u001b[39m(\n\u001b[1;32m   1865\u001b[0m     \u001b[38;5;28mself\u001b[39m,\n\u001b[1;32m   1866\u001b[0m     fileset: Dict,\n\u001b[1;32m   1867\u001b[0m     treename: \u001b[38;5;28mstr\u001b[39m,\n\u001b[1;32m   1868\u001b[0m     processor_instance: ProcessorABC,\n\u001b[1;32m   1869\u001b[0m ) \u001b[38;5;241m-\u001b[39m\u001b[38;5;241m>\u001b[39m Accumulatable:\n\u001b[1;32m   1870\u001b[0m \u001b[38;5;250m    \u001b[39m\u001b[38;5;124;03m\"\"\"Run the processor_instance on a given fileset\u001b[39;00m\n\u001b[1;32m   1871\u001b[0m \n\u001b[1;32m   1872\u001b[0m \u001b[38;5;124;03m    Parameters\u001b[39;00m\n\u001b[0;32m   (...)\u001b[0m\n\u001b[1;32m   1882\u001b[0m \u001b[38;5;124;03m            An instance of a class deriving from ProcessorABC\u001b[39;00m\n\u001b[1;32m   1883\u001b[0m \u001b[38;5;124;03m    \"\"\"\u001b[39;00m\n\u001b[0;32m-> 1885\u001b[0m     wrapped_out \u001b[38;5;241m=\u001b[39m \u001b[38;5;28;43mself\u001b[39;49m\u001b[38;5;241;43m.\u001b[39;49m\u001b[43mrun\u001b[49m\u001b[43m(\u001b[49m\u001b[43mfileset\u001b[49m\u001b[43m,\u001b[49m\u001b[43m \u001b[49m\u001b[43mprocessor_instance\u001b[49m\u001b[43m,\u001b[49m\u001b[43m \u001b[49m\u001b[43mtreename\u001b[49m\u001b[43m)\u001b[49m\n\u001b[1;32m   1886\u001b[0m     \u001b[38;5;28;01mif\u001b[39;00m \u001b[38;5;28mself\u001b[39m\u001b[38;5;241m.\u001b[39muse_dataframes:\n\u001b[1;32m   1887\u001b[0m         \u001b[38;5;28;01mreturn\u001b[39;00m wrapped_out  \u001b[38;5;66;03m# not wrapped anymore\u001b[39;00m\n",
      "File \u001b[0;32m/usr/local/lib/python3.10/site-packages/coffea/processor/executor.py:2044\u001b[0m, in \u001b[0;36mRunner.run\u001b[0;34m(self, fileset, processor_instance, treename)\u001b[0m\n\u001b[1;32m   2041\u001b[0m wrapped_out[\u001b[38;5;124m\"\u001b[39m\u001b[38;5;124mexception\u001b[39m\u001b[38;5;124m\"\u001b[39m] \u001b[38;5;241m=\u001b[39m e\n\u001b[1;32m   2043\u001b[0m \u001b[38;5;28;01mif\u001b[39;00m \u001b[38;5;129;01mnot\u001b[39;00m \u001b[38;5;28mself\u001b[39m\u001b[38;5;241m.\u001b[39muse_dataframes:\n\u001b[0;32m-> 2044\u001b[0m     \u001b[43mprocessor_instance\u001b[49m\u001b[38;5;241;43m.\u001b[39;49m\u001b[43mpostprocess\u001b[49m\u001b[43m(\u001b[49m\u001b[43mwrapped_out\u001b[49m\u001b[43m[\u001b[49m\u001b[38;5;124;43m\"\u001b[39;49m\u001b[38;5;124;43mout\u001b[39;49m\u001b[38;5;124;43m\"\u001b[39;49m\u001b[43m]\u001b[49m\u001b[43m)\u001b[49m\n\u001b[1;32m   2046\u001b[0m \u001b[38;5;28;01mif\u001b[39;00m \u001b[38;5;124m\"\u001b[39m\u001b[38;5;124mmetrics\u001b[39m\u001b[38;5;124m\"\u001b[39m \u001b[38;5;129;01min\u001b[39;00m wrapped_out\u001b[38;5;241m.\u001b[39mkeys():\n\u001b[1;32m   2047\u001b[0m     \u001b[38;5;28;01mif\u001b[39;00m \u001b[38;5;28misinstance\u001b[39m(\u001b[38;5;28mself\u001b[39m\u001b[38;5;241m.\u001b[39mexecutor, (TaskVineExecutor, WorkQueueExecutor)):\n",
      "File \u001b[0;32m/work/ws/zjet_corrections/src/zjet_corrections/zjet_processor.py:226\u001b[0m, in \u001b[0;36mQJetMassProcessor.postprocess\u001b[0;34m(self, accumulator)\u001b[0m\n\u001b[1;32m    223\u001b[0m     \u001b[38;5;28mprint\u001b[39m(\u001b[38;5;124mf\u001b[39m\u001b[38;5;124m\"\u001b[39m\u001b[38;5;124m[postprocess] WARNING: sumw==0 for dataset \u001b[39m\u001b[38;5;124m'\u001b[39m\u001b[38;5;132;01m{\u001b[39;00mname\u001b[38;5;132;01m}\u001b[39;00m\u001b[38;5;124m'\u001b[39m\u001b[38;5;124m. Skipping normalization.\u001b[39m\u001b[38;5;124m\"\u001b[39m)\n\u001b[1;32m    224\u001b[0m     \u001b[38;5;28;01mcontinue\u001b[39;00m\n\u001b[0;32m--> 226\u001b[0m scale \u001b[38;5;241m=\u001b[39m (xs \u001b[38;5;241m*\u001b[39m \u001b[38;5;28;43mself\u001b[39;49m\u001b[38;5;241;43m.\u001b[39;49m\u001b[43mlumi_fb\u001b[49m \u001b[38;5;241m*\u001b[39m \u001b[38;5;241m1000\u001b[39m) \u001b[38;5;241m/\u001b[39m sw\n\u001b[1;32m    227\u001b[0m \u001b[38;5;28;01mfor\u001b[39;00m i, name \u001b[38;5;129;01min\u001b[39;00m \u001b[38;5;28menumerate\u001b[39m(h\u001b[38;5;241m.\u001b[39maxes[\u001b[38;5;124m\"\u001b[39m\u001b[38;5;124mdataset\u001b[39m\u001b[38;5;124m\"\u001b[39m]):\n\u001b[1;32m    228\u001b[0m     h\u001b[38;5;241m.\u001b[39mview(flow\u001b[38;5;241m=\u001b[39m\u001b[38;5;28;01mTrue\u001b[39;00m)[i] \u001b[38;5;241m*\u001b[39m\u001b[38;5;241m=\u001b[39m scale\n",
      "\u001b[0;31mAttributeError\u001b[0m: 'QJetMassProcessor' object has no attribute 'lumi_fb'"
     ]
    }
   ],
   "source": [
    "fileset_test = {\"DYJets\":[\"/work/ws/zjet_corrections/tests/DYjets.root\"]}\n",
    "#fileset_test = {'hello':[\"root://cmsxrootd.fnal.gov//store/mc/RunIISummer20UL16NanoAODv9/DYJetsToLL_M-50_TuneCP5_13TeV-madgraphMLM-pythia8/NANOAODSIM/20UL16JMENano_106X_mcRun2_asymptotic_v17-v1/40000/7F31C071-5572-804B-807C-661C3E00016F.root\"]}\n",
    "run = make_runner(use_dask=False, client=None, chunksize=200_000, maxchunks=None)\n",
    "t0 = time.time()\n",
    "out = run(fileset_test, \"Events\", processor_instance=QJetMassProcessor(debug=True))\n",
    "t1 = time.time()\n",
    "print(f\"Done Running, time taken {(t1-t0):.2f} seconds\")"
   ]
  },
  {
   "cell_type": "code",
   "execution_count": null,
   "id": "542b427c",
   "metadata": {},
   "outputs": [
    {
     "ename": "",
     "evalue": "",
     "output_type": "error",
     "traceback": [
      "\u001b[1;31mnotebook controller is DISPOSED. \n",
      "\u001b[1;31mView Jupyter <a href='command:jupyter.viewOutput'>log</a> for further details."
     ]
    },
    {
     "ename": "",
     "evalue": "",
     "output_type": "error",
     "traceback": [
      "\u001b[1;31mnotebook controller is DISPOSED. \n",
      "\u001b[1;31mView Jupyter <a href='command:jupyter.viewOutput'>log</a> for further details."
     ]
    },
    {
     "ename": "",
     "evalue": "",
     "output_type": "error",
     "traceback": [
      "\u001b[1;31mnotebook controller is DISPOSED. \n",
      "\u001b[1;31mView Jupyter <a href='command:jupyter.viewOutput'>log</a> for further details."
     ]
    }
   ],
   "source": []
  }
 ],
 "metadata": {
  "kernelspec": {
   "display_name": "Python 3",
   "language": "python",
   "name": "python3"
  },
  "language_info": {
   "codemirror_mode": {
    "name": "ipython",
    "version": 3
   },
   "file_extension": ".py",
   "mimetype": "text/x-python",
   "name": "python",
   "nbconvert_exporter": "python",
   "pygments_lexer": "ipython3",
   "version": "3.10.18"
  }
 },
 "nbformat": 4,
 "nbformat_minor": 5
}
